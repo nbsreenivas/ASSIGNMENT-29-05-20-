{
 "cells": [
  {
   "cell_type": "code",
   "execution_count": null,
   "metadata": {},
   "outputs": [],
   "source": []
  },
  {
   "cell_type": "code",
   "execution_count": 1,
   "metadata": {},
   "outputs": [
    {
     "name": "stdout",
     "output_type": "stream",
     "text": [
      "120\n",
      "720\n"
     ]
    }
   ],
   "source": [
    "#1.Create a function to find Factorial of a number using Recursion\n",
    "def factorial(n):\n",
    "    if n==0 or n==1:\n",
    "        return 1\n",
    "    else:\n",
    "        return n*factorial(n-1)\n",
    "\n",
    "print(factorial(5))\n",
    "print(factorial(6))"
   ]
  },
  {
   "cell_type": "code",
   "execution_count": 2,
   "metadata": {},
   "outputs": [
    {
     "name": "stdout",
     "output_type": "stream",
     "text": [
      "3\n"
     ]
    }
   ],
   "source": [
    "#2.Create a function and display ‘n’ Fibonacci numbers using Recursion\n",
    "def recur_fibo(n):\n",
    "    if n==1:\n",
    "        return 0\n",
    "    elif n==2:\n",
    "        return 1\n",
    "    else:\n",
    "        return recur_fibo(n-1)+recur_fibo(n-2)\n",
    "print(recur_fibo(5))\n"
   ]
  },
  {
   "cell_type": "code",
   "execution_count": 3,
   "metadata": {},
   "outputs": [
    {
     "name": "stdout",
     "output_type": "stream",
     "text": [
      "Sum of all elements in given list:  15\n"
     ]
    }
   ],
   "source": [
    "#3.Print sum of list of elements without using sum() function\n",
    "sum1 = 0\n",
    "list1 = [1,2,3,4,5]  \n",
    "for I in range(0, len(list1)): \n",
    "    sum1 = sum1 + list1[I] \n",
    "print(\"Sum of all elements in given list: \", sum1)\n"
   ]
  },
  {
   "cell_type": "code",
   "execution_count": 4,
   "metadata": {},
   "outputs": [
    {
     "name": "stdout",
     "output_type": "stream",
     "text": [
      "[2, 4, 6, 8]\n"
     ]
    }
   ],
   "source": [
    "#4.print only even numbers from the list\n",
    "\n",
    "def even_num(list):\n",
    "    enum = []\n",
    "    for n in list:\n",
    "        if n % 2 == 0:\n",
    "            enum.append(n)\n",
    "    return enum\n",
    "print(even_num([1, 2, 3, 4, 5, 6, 7, 8, 9]))  \n"
   ]
  },
  {
   "cell_type": "code",
   "execution_count": 7,
   "metadata": {},
   "outputs": [
    {
     "name": "stdout",
     "output_type": "stream",
     "text": [
      "1\n"
     ]
    }
   ],
   "source": [
    "#5.Write a Python program to get the smallest number from a list and display index of smallest element of the list\n",
    "list1=[1,2,3,4,5,6,7,8]\n",
    "print(min(list1))\n",
    "\n",
    "    "
   ]
  },
  {
   "cell_type": "code",
   "execution_count": 8,
   "metadata": {},
   "outputs": [
    {
     "name": "stdout",
     "output_type": "stream",
     "text": [
      "enter a string:madam\n",
      "True\n"
     ]
    }
   ],
   "source": [
    "# 6.Write a Python function that checks whether a passed string is palindrome or not.\n",
    "def palin(s):\n",
    "    return s==s[::-1]\n",
    "\n",
    "s= input(\"enter a string:\")\n",
    "print(palin(s))"
   ]
  },
  {
   "cell_type": "code",
   "execution_count": 9,
   "metadata": {},
   "outputs": [
    {
     "name": "stdout",
     "output_type": "stream",
     "text": [
      "4\n",
      "5\n"
     ]
    }
   ],
   "source": [
    "#7.Write a Python program to count the number of even and odd numbers from a series of numbers. \n",
    "#Sample numbers : numbers = [1, 2, 3, 4, 5, 6, 7, 8, 9]\n",
    "#Expected Output :\n",
    "#Number of even numbers : 4\n",
    "#Number of odd numbers : 5\n",
    "list1=[1,2,3,4,5,6,7,8,9]\n",
    "ecnt=0\n",
    "ocnt=0\n",
    "for i in list1:\n",
    "    if i%2==0:\n",
    "        ecnt=ecnt+1\n",
    "    else:\n",
    "        ocnt=ocnt+1\n",
    "        \n",
    "print(\"even count:\"ecnt)\n",
    "print(\"odd count:\n",
    "      ocnt)"
   ]
  },
  {
   "cell_type": "code",
   "execution_count": 19,
   "metadata": {},
   "outputs": [
    {
     "name": "stdout",
     "output_type": "stream",
     "text": [
      "0 1 2 4 5 "
     ]
    }
   ],
   "source": [
    "#8.Write a Python program that prints all the numbers from 0 to 6 except 3 and 6.\n",
    "#Note : Use 'continue' statement.\n",
    "#Expected Output : 0 1 2 4 5\n",
    "for k in range(6):\n",
    "    if (k == 3 or k==6):\n",
    "        continue\n",
    "    print(k,end=' ')\n",
    "\n"
   ]
  },
  {
   "cell_type": "code",
   "execution_count": 31,
   "metadata": {},
   "outputs": [
    {
     "name": "stdout",
     "output_type": "stream",
     "text": [
      "enter a number3\n",
      "3 is a prime number\n"
     ]
    }
   ],
   "source": [
    "#9.Write a python function to check whether the given number is prime or not\n",
    "num = int(input(\"enter a number\"))\n",
    "if num > 1: \n",
    "        for i in range(2, num): \n",
    "            if (num % i) == 0: \n",
    "                print(num, \"is not a prime number\")\n",
    "                break\n",
    "            else: \n",
    "                print(num, \"is a prime number\") \n",
    "else: \n",
    "    print(num, \"is not a prime number\")\n"
   ]
  },
  {
   "cell_type": "code",
   "execution_count": 32,
   "metadata": {},
   "outputs": [
    {
     "name": "stdout",
     "output_type": "stream",
     "text": [
      "enter a number12\n",
      "Adam number\n"
     ]
    }
   ],
   "source": [
    "#Write a python function to check whether the given number is Adam number or not\n",
    "#Example: \n",
    "#Input : 12\n",
    "#Output : Adam Number\n",
    "\n",
    "#Explanation: 12*12 = 144\n",
    "#Reverse of 12 is 21 → 21*21 =441\n",
    "#Reverse of 144 == 441\n",
    "n = int(input(\"enter a number\"))#12\n",
    "print(\"Adam number\") if int(str(n**2)[::-1]) == int(str(n)[::-1])**2 else print(\"Not an Adam Number\")"
   ]
  },
  {
   "cell_type": "code",
   "execution_count": null,
   "metadata": {},
   "outputs": [],
   "source": []
  },
  {
   "cell_type": "code",
   "execution_count": null,
   "metadata": {},
   "outputs": [],
   "source": []
  }
 ],
 "metadata": {
  "kernelspec": {
   "display_name": "Python 3",
   "language": "python",
   "name": "python3"
  },
  "language_info": {
   "codemirror_mode": {
    "name": "ipython",
    "version": 3
   },
   "file_extension": ".py",
   "mimetype": "text/x-python",
   "name": "python",
   "nbconvert_exporter": "python",
   "pygments_lexer": "ipython3",
   "version": "3.7.3"
  }
 },
 "nbformat": 4,
 "nbformat_minor": 2
}
